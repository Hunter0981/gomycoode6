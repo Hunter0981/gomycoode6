{
 "cells": [
  {
   "cell_type": "code",
   "execution_count": 4,
   "id": "db7a4284",
   "metadata": {},
   "outputs": [
    {
     "name": "stdout",
     "output_type": "stream",
     "text": [
      "        name  score  attempts qualify\n",
      "a  Anastasia   12.5         1     yes\n",
      "b       Dima    9.0         3      no\n",
      "c  Katherine   16.5         2     yes\n"
     ]
    }
   ],
   "source": [
    "import pandas as pd\n",
    "import numpy as np\n",
    "\n",
    "# create the dictionary data\n",
    "exam_data = {'name': ['Anastasia', 'Dima', 'Katherine', 'James', 'Emily', 'Michael', 'Matthew', 'Laura', 'Kevin', 'Jonas'],\n",
    "             'score': [12.5, 9, 16.5, np.nan, 9, 20, 14.5, np.nan, 8, 19],\n",
    "             'attempts': [1, 3, 2, 3, 2, 3, 1, 1, 2, 1],\n",
    "             'qualify': ['yes', 'no', 'yes', 'no', 'no', 'yes', 'yes', 'no', 'no', 'yes']}\n",
    "labels = ['a', 'b', 'c', 'd', 'e', 'f', 'g', 'h', 'i', 'j']\n",
    "\n",
    "# create the DataFrame\n",
    "df = pd.DataFrame(exam_data, index=labels)\n",
    "\n",
    "# display the three first rows\n",
    "print(df.head(3))\n",
    "\n",
    "# delete rows with Nan values\n",
    "df.dropna(inplace=True)\n",
    "\n",
    "# extract the 'name' and 'score' columns\n",
    "df = df[['name', 'score']]\n",
    "\n",
    "# append a new row 'k' to the DataFrame\n",
    "new_row = pd.DataFrame({'name': 'Suresh', 'score': 15.5, 'attempts': 1, 'qualify': 'yes'}, index=['k'])\n",
    "df = pd.concat([df, new_row])\n",
    "\n",
    "# delete the 'attempts' column from the DataFrame\n",
    "del df['attempts']\n",
    "\n",
    "# add a new column \"Success\"\n",
    "df['Success'] = df['score'].apply(lambda x: 1 if x > 10 else 0)\n",
    "\n",
    "# export the final DataFrame into a CSV file\n",
    "df.to_csv('my_data.csv')\n"
   ]
  },
  {
   "cell_type": "code",
   "execution_count": null,
   "id": "aa0a5e40",
   "metadata": {},
   "outputs": [],
   "source": []
  }
 ],
 "metadata": {
  "kernelspec": {
   "display_name": "Python 3 (ipykernel)",
   "language": "python",
   "name": "python3"
  },
  "language_info": {
   "codemirror_mode": {
    "name": "ipython",
    "version": 3
   },
   "file_extension": ".py",
   "mimetype": "text/x-python",
   "name": "python",
   "nbconvert_exporter": "python",
   "pygments_lexer": "ipython3",
   "version": "3.9.13"
  }
 },
 "nbformat": 4,
 "nbformat_minor": 5
}
